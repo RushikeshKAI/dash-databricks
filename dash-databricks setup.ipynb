{
 "cells": [
  {
   "cell_type": "code",
   "execution_count": 3,
   "metadata": {
    "scrolled": true
   },
   "outputs": [
    {
     "name": "stdout",
     "output_type": "stream",
     "text": [
      "Collecting pip\n",
      "\u001b[?25l  Downloading https://files.pythonhosted.org/packages/09/bd/2410905c76ee14c62baf69e3f4aa780226c1bbfc9485731ad018e35b0cb5/pip-22.3.1-py3-none-any.whl (2.1MB)\n",
      "\u001b[K     |████████████████████████████████| 2.1MB 639kB/s eta 0:00:01\n",
      "\u001b[?25hCollecting setuptools\n",
      "  Using cached https://files.pythonhosted.org/packages/b6/40/353c051f77ee5618adaf1fd96f4f6bae9714ed0a22c7142c01c24eb77fe4/setuptools-65.5.1-py3-none-any.whl\n",
      "Collecting wheel\n",
      "  Using cached https://files.pythonhosted.org/packages/bd/7c/d38a0b30ce22fc26ed7dbc087c6d00851fb3395e9d0dac40bec1f905030c/wheel-0.38.4-py3-none-any.whl\n",
      "Installing collected packages: pip, setuptools, wheel\n",
      "Successfully installed pip-22.3.1 setuptools-65.5.1 wheel-0.38.4\n",
      "Note: you may need to restart the kernel to use updated packages.\n"
     ]
    }
   ],
   "source": [
    "pip install --upgrade pip setuptools wheel"
   ]
  },
  {
   "cell_type": "code",
   "execution_count": 1,
   "metadata": {},
   "outputs": [
    {
     "name": "stdout",
     "output_type": "stream",
     "text": [
      "Requirement already satisfied: dash in /home/rushikesh/snap/jupyter/common/lib/python3.7/site-packages (2.7.0)\n",
      "Requirement already satisfied: dash-core-components==2.0.0 in /home/rushikesh/snap/jupyter/common/lib/python3.7/site-packages (from dash) (2.0.0)\n",
      "Requirement already satisfied: plotly>=5.0.0 in /home/rushikesh/snap/jupyter/common/lib/python3.7/site-packages (from dash) (5.11.0)\n",
      "Requirement already satisfied: dash-html-components==2.0.0 in /home/rushikesh/snap/jupyter/common/lib/python3.7/site-packages (from dash) (2.0.0)\n",
      "Requirement already satisfied: dash-table==5.0.0 in /home/rushikesh/snap/jupyter/common/lib/python3.7/site-packages (from dash) (5.0.0)\n",
      "Requirement already satisfied: Flask>=1.0.4 in /home/rushikesh/snap/jupyter/common/lib/python3.7/site-packages (from dash) (2.2.2)\n",
      "Requirement already satisfied: tenacity>=6.2.0 in /home/rushikesh/snap/jupyter/common/lib/python3.7/site-packages (from plotly>=5.0.0->dash) (8.1.0)\n",
      "Requirement already satisfied: importlib-metadata>=3.6.0; python_version < \"3.10\" in /home/rushikesh/snap/jupyter/common/lib/python3.7/site-packages (from Flask>=1.0.4->dash) (5.0.0)\n",
      "Requirement already satisfied: click>=8.0 in /home/rushikesh/snap/jupyter/common/lib/python3.7/site-packages (from Flask>=1.0.4->dash) (8.1.3)\n",
      "Requirement already satisfied: Werkzeug>=2.2.2 in /home/rushikesh/snap/jupyter/common/lib/python3.7/site-packages (from Flask>=1.0.4->dash) (2.2.2)\n",
      "Requirement already satisfied: Jinja2>=3.0 in /home/rushikesh/snap/jupyter/common/lib/python3.7/site-packages (from Flask>=1.0.4->dash) (3.1.2)\n",
      "Requirement already satisfied: itsdangerous>=2.0 in /home/rushikesh/snap/jupyter/common/lib/python3.7/site-packages (from Flask>=1.0.4->dash) (2.1.2)\n",
      "Requirement already satisfied: zipp>=0.5 in /home/rushikesh/snap/jupyter/common/lib/python3.7/site-packages (from importlib-metadata>=3.6.0; python_version < \"3.10\"->Flask>=1.0.4->dash) (3.10.0)\n",
      "Requirement already satisfied: typing-extensions>=3.6.4; python_version < \"3.8\" in /home/rushikesh/snap/jupyter/common/lib/python3.7/site-packages (from importlib-metadata>=3.6.0; python_version < \"3.10\"->Flask>=1.0.4->dash) (4.4.0)\n",
      "Requirement already satisfied: MarkupSafe>=2.1.1 in /home/rushikesh/snap/jupyter/common/lib/python3.7/site-packages (from Werkzeug>=2.2.2->Flask>=1.0.4->dash) (2.1.1)\n",
      "Note: you may need to restart the kernel to use updated packages.\n"
     ]
    }
   ],
   "source": [
    "pip install dash"
   ]
  },
  {
   "cell_type": "code",
   "execution_count": 2,
   "metadata": {},
   "outputs": [
    {
     "name": "stdout",
     "output_type": "stream",
     "text": [
      "Requirement already satisfied: jupyter-dash in /home/rushikesh/snap/jupyter/common/lib/python3.7/site-packages (0.4.2)\n",
      "Requirement already satisfied: ipython in /snap/jupyter/6/lib/python3.7/site-packages (from jupyter-dash) (7.5.0)\n",
      "Requirement already satisfied: ansi2html in /home/rushikesh/snap/jupyter/common/lib/python3.7/site-packages (from jupyter-dash) (1.8.0)\n",
      "Requirement already satisfied: requests in /home/rushikesh/snap/jupyter/common/lib/python3.7/site-packages (from jupyter-dash) (2.28.1)\n",
      "Requirement already satisfied: ipykernel in /snap/jupyter/6/lib/python3.7/site-packages (from jupyter-dash) (5.1.1)\n",
      "Requirement already satisfied: retrying in /home/rushikesh/snap/jupyter/common/lib/python3.7/site-packages (from jupyter-dash) (1.3.3)\n",
      "Requirement already satisfied: nest-asyncio in /home/rushikesh/snap/jupyter/common/lib/python3.7/site-packages (from jupyter-dash) (1.5.6)\n",
      "Requirement already satisfied: dash in /home/rushikesh/snap/jupyter/common/lib/python3.7/site-packages (from jupyter-dash) (2.7.0)\n",
      "Requirement already satisfied: flask in /home/rushikesh/snap/jupyter/common/lib/python3.7/site-packages (from jupyter-dash) (2.2.2)\n",
      "Requirement already satisfied: decorator in /snap/jupyter/6/lib/python3.7/site-packages (from ipython->jupyter-dash) (4.4.0)\n",
      "Requirement already satisfied: backcall in /snap/jupyter/6/lib/python3.7/site-packages (from ipython->jupyter-dash) (0.1.0)\n",
      "Requirement already satisfied: traitlets>=4.2 in /snap/jupyter/6/lib/python3.7/site-packages (from ipython->jupyter-dash) (4.3.2)\n",
      "Requirement already satisfied: prompt-toolkit<2.1.0,>=2.0.0 in /snap/jupyter/6/lib/python3.7/site-packages (from ipython->jupyter-dash) (2.0.9)\n",
      "Requirement already satisfied: pygments in /snap/jupyter/6/lib/python3.7/site-packages (from ipython->jupyter-dash) (2.4.2)\n",
      "Requirement already satisfied: pexpect; sys_platform != \"win32\" in /snap/jupyter/6/lib/python3.7/site-packages (from ipython->jupyter-dash) (4.7.0)\n",
      "Requirement already satisfied: pickleshare in /snap/jupyter/6/lib/python3.7/site-packages (from ipython->jupyter-dash) (0.7.5)\n",
      "Requirement already satisfied: jedi>=0.10 in /snap/jupyter/6/lib/python3.7/site-packages (from ipython->jupyter-dash) (0.13.3)\n",
      "Requirement already satisfied: setuptools>=18.5 in /snap/jupyter/6/lib/python3.7/site-packages (from ipython->jupyter-dash) (41.0.1)\n",
      "Requirement already satisfied: importlib-metadata; python_version < \"3.8\" in /home/rushikesh/snap/jupyter/common/lib/python3.7/site-packages (from ansi2html->jupyter-dash) (5.0.0)\n",
      "Requirement already satisfied: idna<4,>=2.5 in /home/rushikesh/snap/jupyter/common/lib/python3.7/site-packages (from requests->jupyter-dash) (3.4)\n",
      "Requirement already satisfied: urllib3<1.27,>=1.21.1 in /home/rushikesh/snap/jupyter/common/lib/python3.7/site-packages (from requests->jupyter-dash) (1.26.12)\n",
      "Requirement already satisfied: charset-normalizer<3,>=2 in /home/rushikesh/snap/jupyter/common/lib/python3.7/site-packages (from requests->jupyter-dash) (2.1.1)\n",
      "Requirement already satisfied: certifi>=2017.4.17 in /snap/jupyter/6/lib/python3.7/site-packages (from requests->jupyter-dash) (2019.3.9)\n",
      "Requirement already satisfied: jupyter-client in /snap/jupyter/6/lib/python3.7/site-packages (from ipykernel->jupyter-dash) (5.2.4)\n",
      "Requirement already satisfied: tornado>=4.2 in /snap/jupyter/6/lib/python3.7/site-packages (from ipykernel->jupyter-dash) (6.0.2)\n",
      "Requirement already satisfied: six>=1.7.0 in /snap/jupyter/6/lib/python3.7/site-packages (from retrying->jupyter-dash) (1.12.0)\n",
      "Requirement already satisfied: dash-table==5.0.0 in /home/rushikesh/snap/jupyter/common/lib/python3.7/site-packages (from dash->jupyter-dash) (5.0.0)\n",
      "Requirement already satisfied: dash-html-components==2.0.0 in /home/rushikesh/snap/jupyter/common/lib/python3.7/site-packages (from dash->jupyter-dash) (2.0.0)\n",
      "Requirement already satisfied: plotly>=5.0.0 in /home/rushikesh/snap/jupyter/common/lib/python3.7/site-packages (from dash->jupyter-dash) (5.11.0)\n",
      "Requirement already satisfied: dash-core-components==2.0.0 in /home/rushikesh/snap/jupyter/common/lib/python3.7/site-packages (from dash->jupyter-dash) (2.0.0)\n",
      "Requirement already satisfied: Werkzeug>=2.2.2 in /home/rushikesh/snap/jupyter/common/lib/python3.7/site-packages (from flask->jupyter-dash) (2.2.2)\n",
      "Requirement already satisfied: click>=8.0 in /home/rushikesh/snap/jupyter/common/lib/python3.7/site-packages (from flask->jupyter-dash) (8.1.3)\n",
      "Requirement already satisfied: Jinja2>=3.0 in /home/rushikesh/snap/jupyter/common/lib/python3.7/site-packages (from flask->jupyter-dash) (3.1.2)\n",
      "Requirement already satisfied: itsdangerous>=2.0 in /home/rushikesh/snap/jupyter/common/lib/python3.7/site-packages (from flask->jupyter-dash) (2.1.2)\n",
      "Requirement already satisfied: ipython_genutils in /snap/jupyter/6/lib/python3.7/site-packages (from traitlets>=4.2->ipython->jupyter-dash) (0.2.0)\n",
      "Requirement already satisfied: wcwidth in /snap/jupyter/6/lib/python3.7/site-packages (from prompt-toolkit<2.1.0,>=2.0.0->ipython->jupyter-dash) (0.1.7)\n",
      "Requirement already satisfied: ptyprocess>=0.5 in /snap/jupyter/6/lib/python3.7/site-packages (from pexpect; sys_platform != \"win32\"->ipython->jupyter-dash) (0.6.0)\n",
      "Requirement already satisfied: parso>=0.3.0 in /snap/jupyter/6/lib/python3.7/site-packages (from jedi>=0.10->ipython->jupyter-dash) (0.4.0)\n",
      "Requirement already satisfied: typing-extensions>=3.6.4; python_version < \"3.8\" in /home/rushikesh/snap/jupyter/common/lib/python3.7/site-packages (from importlib-metadata; python_version < \"3.8\"->ansi2html->jupyter-dash) (4.4.0)\n",
      "Requirement already satisfied: zipp>=0.5 in /home/rushikesh/snap/jupyter/common/lib/python3.7/site-packages (from importlib-metadata; python_version < \"3.8\"->ansi2html->jupyter-dash) (3.10.0)\n",
      "Requirement already satisfied: python-dateutil>=2.1 in /snap/jupyter/6/lib/python3.7/site-packages (from jupyter-client->ipykernel->jupyter-dash) (2.8.0)\n",
      "Requirement already satisfied: pyzmq>=13 in /snap/jupyter/6/lib/python3.7/site-packages (from jupyter-client->ipykernel->jupyter-dash) (18.0.1)\n",
      "Requirement already satisfied: jupyter-core in /snap/jupyter/6/lib/python3.7/site-packages (from jupyter-client->ipykernel->jupyter-dash) (4.4.0)\n",
      "Requirement already satisfied: tenacity>=6.2.0 in /home/rushikesh/snap/jupyter/common/lib/python3.7/site-packages (from plotly>=5.0.0->dash->jupyter-dash) (8.1.0)\n",
      "Requirement already satisfied: MarkupSafe>=2.1.1 in /home/rushikesh/snap/jupyter/common/lib/python3.7/site-packages (from Werkzeug>=2.2.2->flask->jupyter-dash) (2.1.1)\n",
      "Note: you may need to restart the kernel to use updated packages.\n"
     ]
    }
   ],
   "source": [
    "pip install jupyter-dash"
   ]
  },
  {
   "cell_type": "code",
   "execution_count": 1,
   "metadata": {},
   "outputs": [
    {
     "name": "stdout",
     "output_type": "stream",
     "text": [
      "WARNING: pip is being invoked by an old script wrapper. This will fail in a future version of pip.\n",
      "Please see https://github.com/pypa/pip/issues/5599 for advice on fixing the underlying issue.\n",
      "To avoid this problem you can invoke Python with '-m pip' instead of running pip directly.\n",
      "Collecting pandas\n",
      "  Downloading pandas-1.3.5-cp37-cp37m-manylinux_2_17_x86_64.manylinux2014_x86_64.whl (11.3 MB)\n",
      "\u001b[2K     \u001b[38;2;114;156;31m━━━━━━━━━━━━━━━━━━━━━━━━━━━━━━━━━━━━━━━\u001b[0m \u001b[32m11.3/11.3 MB\u001b[0m \u001b[31m847.8 kB/s\u001b[0m eta \u001b[36m0:00:00\u001b[0mm eta \u001b[36m0:00:01\u001b[0m[36m0:00:01\u001b[0m\n",
      "\u001b[?25hCollecting pytz>=2017.3\n",
      "  Downloading pytz-2022.6-py2.py3-none-any.whl (498 kB)\n",
      "\u001b[2K     \u001b[38;2;114;156;31m━━━━━━━━━━━━━━━━━━━━━━━━━━━━━━━━━━━━━\u001b[0m \u001b[32m498.1/498.1 kB\u001b[0m \u001b[31m543.2 kB/s\u001b[0m eta \u001b[36m0:00:00\u001b[0m kB/s\u001b[0m eta \u001b[36m0:00:01\u001b[0m:01\u001b[0m\n",
      "\u001b[?25hRequirement already satisfied: python-dateutil>=2.7.3 in /snap/jupyter/6/lib/python3.7/site-packages (from pandas) (2.8.0)\n",
      "Collecting numpy>=1.17.3\n",
      "  Downloading numpy-1.21.6-cp37-cp37m-manylinux_2_12_x86_64.manylinux2010_x86_64.whl (15.7 MB)\n",
      "\u001b[2K     \u001b[38;2;114;156;31m━━━━━━━━━━━━━━━━━━━━━━━━━━━━━━━━━━━━━━━\u001b[0m \u001b[32m15.7/15.7 MB\u001b[0m \u001b[31m792.6 kB/s\u001b[0m eta \u001b[36m0:00:00\u001b[0mm eta \u001b[36m0:00:01\u001b[0m[36m0:00:01\u001b[0m\n",
      "\u001b[?25hRequirement already satisfied: six>=1.5 in /snap/jupyter/6/lib/python3.7/site-packages (from python-dateutil>=2.7.3->pandas) (1.12.0)\n",
      "Installing collected packages: pytz, numpy, pandas\n",
      "Successfully installed numpy-1.21.6 pandas-1.3.5 pytz-2022.6\n"
     ]
    }
   ],
   "source": [
    "!pip install --no-cache-dir pandas"
   ]
  },
  {
   "cell_type": "code",
   "execution_count": 5,
   "metadata": {},
   "outputs": [
    {
     "name": "stdout",
     "output_type": "stream",
     "text": [
      "Dash is running on http://127.0.0.1:8050/\n",
      "\n",
      "Dash is running on http://127.0.0.1:8050/\n",
      "\n",
      "Dash is running on http://127.0.0.1:8050/\n",
      "\n",
      "Dash is running on http://127.0.0.1:8050/\n",
      "\n",
      " * Serving Flask app '__main__'\n",
      " * Debug mode: on\n"
     ]
    },
    {
     "name": "stderr",
     "output_type": "stream",
     "text": [
      "Address already in use\n",
      "Port 8050 is in use by another program. Either identify and stop that program, or start the server with a different port.\n"
     ]
    },
    {
     "ename": "SystemExit",
     "evalue": "1",
     "output_type": "error",
     "traceback": [
      "An exception has occurred, use %tb to see the full traceback.\n",
      "\u001b[0;31mSystemExit\u001b[0m\u001b[0;31m:\u001b[0m 1\n"
     ]
    }
   ],
   "source": [
    "from dash import Dash, html, dcc\n",
    "import plotly.express as px\n",
    "import pandas as pd\n",
    "app = Dash(__name__)\n",
    "app.run_server(debug=True)\n",
    "# assume you have a \"long-form\" data frame\n",
    "# see https://plotly.com/python/px-arguments/ for more options\n",
    "df = pd.DataFrame({\n",
    "    \"Fruit\": [\"Apples\", \"Oranges\", \"Bananas\", \"Apples\", \"Oranges\", \"Bananas\"],\n",
    "    \"Amount\": [4, 1, 2, 2, 4, 5],\n",
    "    \"City\": [\"SF\", \"SF\", \"SF\", \"Montreal\", \"Montreal\", \"Montreal\"]\n",
    "})\n",
    "\n",
    "fig = px.bar(df, x=\"Fruit\", y=\"Amount\", color=\"City\", barmode=\"group\")\n",
    "\n",
    "app.layout = html.Div(children=[\n",
    "    html.H1(children='Hello Dash'),\n",
    "\n",
    "    html.Div(children='''\n",
    "        Dash: A web application framework for your data.\n",
    "    '''),\n",
    "\n",
    "    dcc.Graph(\n",
    "        id='example-graph',\n",
    "        figure=fig\n",
    "    )\n",
    "])\n"
   ]
  }
 ],
 "metadata": {
  "kernelspec": {
   "display_name": "Python 3",
   "language": "python",
   "name": "python3"
  },
  "language_info": {
   "codemirror_mode": {
    "name": "ipython",
    "version": 3
   },
   "file_extension": ".py",
   "mimetype": "text/x-python",
   "name": "python",
   "nbconvert_exporter": "python",
   "pygments_lexer": "ipython3",
   "version": "3.7.3"
  }
 },
 "nbformat": 4,
 "nbformat_minor": 2
}
